{
 "cells": [
  {
   "cell_type": "code",
   "execution_count": 4,
   "id": "86c8a069",
   "metadata": {
    "ExecuteTime": {
     "end_time": "2022-08-02T09:26:59.369428Z",
     "start_time": "2022-08-02T09:26:59.352407Z"
    }
   },
   "outputs": [],
   "source": [
    "import plotly\n",
    "import plotly as py\n",
    "import plotly.graph_objs as go \n",
    "import numpy as np \n",
    "import math"
   ]
  },
  {
   "cell_type": "code",
   "execution_count": 9,
   "id": "350361de",
   "metadata": {
    "ExecuteTime": {
     "end_time": "2022-08-02T09:28:46.921283Z",
     "start_time": "2022-08-02T09:28:46.917290Z"
    }
   },
   "outputs": [],
   "source": [
    "xpoints = np.arange(0, math.pi * 2, 0.05)\n",
    "ypoints = np.sin(xpoints)\n",
    "trace0 = go.Scatter(x = xpoints, y = ypoints)\n",
    "data = [trace0]\n",
    "#py.plot(data,kind = \"bar\", filename = \"Sine wave\", auto_open = True)"
   ]
  },
  {
   "cell_type": "code",
   "execution_count": 10,
   "id": "592fb6da",
   "metadata": {
    "ExecuteTime": {
     "end_time": "2022-08-02T09:28:51.945976Z",
     "start_time": "2022-08-02T09:28:51.493162Z"
    }
   },
   "outputs": [
    {
     "data": {
      "text/plain": [
       "'temp-plot.html'"
      ]
     },
     "execution_count": 10,
     "metadata": {},
     "output_type": "execute_result"
    }
   ],
   "source": [
    "plotly.offline.plot({\"data\":data,\"layout\": go.Layout(title = \"hello world\")})"
   ]
  }
 ],
 "metadata": {
  "hide_input": false,
  "kernelspec": {
   "display_name": "Python 3 (ipykernel)",
   "language": "python",
   "name": "python3"
  },
  "language_info": {
   "codemirror_mode": {
    "name": "ipython",
    "version": 3
   },
   "file_extension": ".py",
   "mimetype": "text/x-python",
   "name": "python",
   "nbconvert_exporter": "python",
   "pygments_lexer": "ipython3",
   "version": "3.9.12"
  },
  "nbTranslate": {
   "displayLangs": [
    "*"
   ],
   "hotkey": "alt-t",
   "langInMainMenu": true,
   "sourceLang": "en",
   "targetLang": "fr",
   "useGoogleTranslate": true
  },
  "varInspector": {
   "cols": {
    "lenName": 16,
    "lenType": 16,
    "lenVar": 40
   },
   "kernels_config": {
    "python": {
     "delete_cmd_postfix": "",
     "delete_cmd_prefix": "del ",
     "library": "var_list.py",
     "varRefreshCmd": "print(var_dic_list())"
    },
    "r": {
     "delete_cmd_postfix": ") ",
     "delete_cmd_prefix": "rm(",
     "library": "var_list.r",
     "varRefreshCmd": "cat(var_dic_list()) "
    }
   },
   "types_to_exclude": [
    "module",
    "function",
    "builtin_function_or_method",
    "instance",
    "_Feature"
   ],
   "window_display": false
  }
 },
 "nbformat": 4,
 "nbformat_minor": 5
}
