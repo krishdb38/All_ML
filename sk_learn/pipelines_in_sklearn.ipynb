{
  "nbformat": 4,
  "nbformat_minor": 0,
  "metadata": {
    "colab": {
      "name": "pipelines_in_sklearn.ipynb",
      "provenance": [],
      "collapsed_sections": []
    },
    "kernelspec": {
      "name": "python3",
      "display_name": "Python 3"
    },
    "language_info": {
      "name": "python"
    }
  },
  "cells": [
    {
      "cell_type": "markdown",
      "metadata": {
        "id": "J9HNAfthSgS-"
      },
      "source": [
        "## Pipelines in Sklearn\n",
        "**https://github.com/krishnaik06/Pipelines-Using-Sklearn/blob/master/SklearnPipeline.ipynb**"
      ]
    },
    {
      "cell_type": "code",
      "metadata": {
        "id": "X9cb77h1Sv69"
      },
      "source": [
        "from sklearn.datasets import load_iris\n",
        "from sklearn.model_selection import train_test_split\n",
        "from sklearn.preprocessing import StandardScaler\n",
        "from sklearn.decomposition import  PCA\n",
        "from sklearn.pipeline import Pipeline\n",
        "\n",
        "from sklearn.linear_model import LogisticRegression\n",
        "from sklearn.tree import  DecisionTreeClassifier\n",
        "from sklearn.ensemble import  RandomForestClassifier\n",
        "\n",
        "import numpy as np"
      ],
      "execution_count": 27,
      "outputs": []
    },
    {
      "cell_type": "code",
      "metadata": {
        "id": "RNntv1tQTTDC"
      },
      "source": [
        "iris = load_iris()"
      ],
      "execution_count": 2,
      "outputs": []
    },
    {
      "cell_type": "code",
      "metadata": {
        "colab": {
          "base_uri": "https://localhost:8080/"
        },
        "id": "R1XaQ61FTWB5",
        "outputId": "b586fc72-3823-440c-f3c3-035fcb6bc412"
      },
      "source": [
        "iris.data[:5]"
      ],
      "execution_count": 3,
      "outputs": [
        {
          "output_type": "execute_result",
          "data": {
            "text/plain": [
              "array([[5.1, 3.5, 1.4, 0.2],\n",
              "       [4.9, 3. , 1.4, 0.2],\n",
              "       [4.7, 3.2, 1.3, 0.2],\n",
              "       [4.6, 3.1, 1.5, 0.2],\n",
              "       [5. , 3.6, 1.4, 0.2]])"
            ]
          },
          "metadata": {
            "tags": []
          },
          "execution_count": 3
        }
      ]
    },
    {
      "cell_type": "code",
      "metadata": {
        "colab": {
          "base_uri": "https://localhost:8080/"
        },
        "id": "2SjNfEvZTXr5",
        "outputId": "eb54d933-241b-40f1-c6c8-f6343e5a6166"
      },
      "source": [
        "# shape of total data \n",
        "iris.data.shape"
      ],
      "execution_count": 4,
      "outputs": [
        {
          "output_type": "execute_result",
          "data": {
            "text/plain": [
              "(150, 4)"
            ]
          },
          "metadata": {
            "tags": []
          },
          "execution_count": 4
        }
      ]
    },
    {
      "cell_type": "code",
      "metadata": {
        "id": "gPqUx6yYTfZB"
      },
      "source": [
        "x_train, x_test , y_train, y_test = train_test_split(iris.data, iris.target,\n",
        "                                                     test_size = 0.3, random_state = 0)"
      ],
      "execution_count": 5,
      "outputs": []
    },
    {
      "cell_type": "code",
      "metadata": {
        "id": "MWWdURnjT9pO"
      },
      "source": [
        "# Pipelines Creation\n",
        "## 1. Data Preprocessing using Standard Scaler\n",
        "\n",
        "## 2. Reduce Dimension using PCA\n",
        "## 3. Apply Classifier "
      ],
      "execution_count": 6,
      "outputs": []
    },
    {
      "cell_type": "code",
      "metadata": {
        "id": "JqfiXnYrUL2G"
      },
      "source": [
        "pipeline_lr=Pipeline([('scalar1',StandardScaler()),\n",
        "                     ('pca1',PCA(n_components=2)),\n",
        "                     ('lr_classifier',LogisticRegression(random_state=0))])"
      ],
      "execution_count": 7,
      "outputs": []
    },
    {
      "cell_type": "code",
      "metadata": {
        "id": "A949AMiOUgMO"
      },
      "source": [
        "pipeline_dt = Pipeline([\n",
        "                        (\"scalar2\", StandardScaler()),\n",
        "                        (\"pca2\", PCA(n_components=2)),\n",
        "                        (\"dt_classifier\", DecisionTreeClassifier())\n",
        "])"
      ],
      "execution_count": 8,
      "outputs": []
    },
    {
      "cell_type": "code",
      "metadata": {
        "id": "0L0ybTLKh7sY"
      },
      "source": [
        "pipeline_randomforest = Pipeline([\n",
        "                                  (\"scalar3\", StandardScaler()),\n",
        "                                  (\"pca3\", PCA(n_components=2)),\n",
        "                                  (\"rf_classifier\", RandomForestClassifier())\n",
        "])"
      ],
      "execution_count": 9,
      "outputs": []
    },
    {
      "cell_type": "code",
      "metadata": {
        "id": "7TVF_uT_iPg_"
      },
      "source": [
        "## Lets make the list of pipelines\n",
        "pipelines = [pipeline_lr, pipeline_dt, pipeline_randomforest]"
      ],
      "execution_count": 10,
      "outputs": []
    },
    {
      "cell_type": "code",
      "metadata": {
        "id": "uu5FuB01i0pf"
      },
      "source": [
        "best_accuracy = 0.0\n",
        "best_classifier  = 0\n",
        "best_pipeline = \"\"\n"
      ],
      "execution_count": 17,
      "outputs": []
    },
    {
      "cell_type": "code",
      "metadata": {
        "id": "NfLLLCTOi77P"
      },
      "source": [
        "# Dictionary of pipelines and classifier types for ease of reference\n",
        "pipe_dict = {0: \"Logistic Regression\", 1 : \"Decision Tree\", 2: \"RandomForest\"}\n",
        "\n",
        "# Fit the pipelines\n",
        "for pipe in pipelines:\n",
        "  pipe.fit(x_train, y_train)\n"
      ],
      "execution_count": 18,
      "outputs": []
    },
    {
      "cell_type": "code",
      "metadata": {
        "colab": {
          "base_uri": "https://localhost:8080/"
        },
        "id": "PGSmN06CjgcX",
        "outputId": "00747ea4-01fd-4f7d-ffa5-b7e5f60ec794"
      },
      "source": [
        "for i , model in enumerate(pipelines):\n",
        "  print(\"{} Test Accuracy: {}\".format(pipe_dict[i],model.score(x_test,y_test)))"
      ],
      "execution_count": 19,
      "outputs": [
        {
          "output_type": "stream",
          "text": [
            "Logistic Regression Test Accuracy: 0.8666666666666667\n",
            "Decision Tree Test Accuracy: 0.9111111111111111\n",
            "RandomForest Test Accuracy: 0.9111111111111111\n"
          ],
          "name": "stdout"
        }
      ]
    },
    {
      "cell_type": "code",
      "metadata": {
        "id": "xOGwtsPYjz3H",
        "colab": {
          "base_uri": "https://localhost:8080/"
        },
        "outputId": "092330b1-2e8e-4a11-8123-f05ebc18612c"
      },
      "source": [
        "for i,model in enumerate(pipelines):\n",
        "    if model.score(x_test,y_test)>best_accuracy:\n",
        "        best_accuracy=model.score(x_test,y_test)\n",
        "        best_pipeline=model\n",
        "        best_classifier=i\n",
        "print('Classifier with best accuracy:{}'.format(pipe_dict[best_classifier]))"
      ],
      "execution_count": 21,
      "outputs": [
        {
          "output_type": "stream",
          "text": [
            "Classifier with best accuracy:Decision Tree\n"
          ],
          "name": "stdout"
        }
      ]
    },
    {
      "cell_type": "markdown",
      "metadata": {
        "id": "W780uukvK_3W"
      },
      "source": [
        "### Pipelines Perform Hyperparameter Tuning Using Grid SearchCV  "
      ]
    },
    {
      "cell_type": "code",
      "metadata": {
        "id": "F3LWFwAAZxqU"
      },
      "source": [
        "from sklearn.model_selection import  GridSearchCV"
      ],
      "execution_count": 24,
      "outputs": []
    },
    {
      "cell_type": "code",
      "metadata": {
        "id": "3liFqgWVZ9vs"
      },
      "source": [
        "## Create a pipeline\n",
        "pipe = Pipeline([(\"classifier\", RandomForestClassifier())])\n",
        "\n",
        "# Create a dictionary with candidate learning algorithms and thier hyperparameters\n",
        "\n",
        "grid_param = [\n",
        "              {\n",
        "                  \"classifier\" : [LogisticRegression()],\n",
        "               \"classifier__penalty\":[\"l2\", \"l1\"],\n",
        "               \"classifier__C\" : np.logspace(0,4,10)\n",
        "              },\n",
        "              {\n",
        "                  \"classifier\" : [LogisticRegression()],\n",
        "               \"classifier__penalty\":[\"l2\"],\n",
        "               \"classifier__C\" : np.logspace(0,4,10),\n",
        "               \"classifier__solver\" : [\"newton-cg\", \"saga\", \"sag\", \"liblinear\"] # This solvers dont allow L1 penalty\n",
        "              },\n",
        "              {\"classifier\" : [RandomForestClassifier()],\n",
        "               \"classifier__n_estimators\" : [10,100,1000],\n",
        "               \"classifier__max_depth\": [5,8, 15,25, 30 , None],\n",
        "               \"classifier__min_samples_leaf\": [1,2,5,10,15,100],\n",
        "               \"classifier__max_leaf_nodes\" : [2,5,10]}]\n"
      ],
      "execution_count": 29,
      "outputs": []
    },
    {
      "cell_type": "code",
      "metadata": {
        "colab": {
          "base_uri": "https://localhost:8080/"
        },
        "id": "73MNhOD5ja4F",
        "outputId": "48913533-d068-4a47-96f9-c77fd0c353c8"
      },
      "source": [
        "# Create a grid search of the pipeline, the fit the best model\n",
        "gridsearch = GridSearchCV(pipe, grid_param, cv = 5, verbose = 0, n_jobs=-1)\n",
        "\n",
        "# Fit grid search  # Time Consuming\n",
        "best_model = gridsearch.fit(x_train, y_train)"
      ],
      "execution_count": 30,
      "outputs": [
        {
          "output_type": "stream",
          "text": [
            "/usr/local/lib/python3.7/dist-packages/sklearn/linear_model/_sag.py:330: ConvergenceWarning: The max_iter was reached which means the coef_ did not converge\n",
            "  \"the coef_ did not converge\", ConvergenceWarning)\n"
          ],
          "name": "stderr"
        }
      ]
    },
    {
      "cell_type": "code",
      "metadata": {
        "colab": {
          "base_uri": "https://localhost:8080/"
        },
        "id": "rl61jqaGjk6u",
        "outputId": "aed97358-3454-4224-cf74-fc2522de95b2"
      },
      "source": [
        "print(best_model.best_estimator_)\n",
        "print(\"The mean accuracy of the model is : \" , best_model.score(x_test, y_test))"
      ],
      "execution_count": 31,
      "outputs": [
        {
          "output_type": "stream",
          "text": [
            "Pipeline(memory=None,\n",
            "         steps=[('classifier',\n",
            "                 LogisticRegression(C=1.0, class_weight=None, dual=False,\n",
            "                                    fit_intercept=True, intercept_scaling=1,\n",
            "                                    l1_ratio=None, max_iter=100,\n",
            "                                    multi_class='auto', n_jobs=None,\n",
            "                                    penalty='l2', random_state=None,\n",
            "                                    solver='saga', tol=0.0001, verbose=0,\n",
            "                                    warm_start=False))],\n",
            "         verbose=False)\n",
            "The mean accuracy of the model is :  0.9555555555555556\n"
          ],
          "name": "stdout"
        }
      ]
    },
    {
      "cell_type": "markdown",
      "metadata": {
        "id": "SdWuDFmhjwwj"
      },
      "source": [
        "## MakePipelines in SK Learn"
      ]
    },
    {
      "cell_type": "code",
      "metadata": {
        "id": "qZsiEc8Pj40a"
      },
      "source": [
        "from sklearn.pipeline import  make_pipeline\n",
        "\n",
        "# Create a Pipe lIne\n",
        "pipe = make_pipeline((RandomForestClassifier()))\n",
        "\n",
        "#Create dictionary with candidate learning algorithms and their hyperparameters\n",
        "\n",
        "grid_param = [\n",
        "                {\"randomforestclassifier\": [RandomForestClassifier()],\n",
        "                 \"randomforestclassifier__n_estimators\": [10, 100, 1000],\n",
        "                 \"randomforestclassifier__max_depth\":[5,8,15,25,30,None],\n",
        "                 \"randomforestclassifier__min_samples_leaf\":[1,2,5,10,15,100],\n",
        "                 \"randomforestclassifier__max_leaf_nodes\": [2, 5,10]}]\n"
      ],
      "execution_count": 40,
      "outputs": []
    },
    {
      "cell_type": "code",
      "metadata": {
        "id": "Y0QNeFO-pR_c"
      },
      "source": [
        "## create a gridsearch of the pipeline, the fit the best model\n",
        "gridsearch = GridSearchCV(pipe, grid_param, cv=5, verbose=0,n_jobs=-1) # Fit grid search"
      ],
      "execution_count": 42,
      "outputs": []
    },
    {
      "cell_type": "code",
      "metadata": {
        "id": "0zJl70-1qQG7"
      },
      "source": [
        "best_model = gridsearch.fit(x_train, y_train)"
      ],
      "execution_count": null,
      "outputs": []
    },
    {
      "cell_type": "code",
      "metadata": {
        "id": "6LQgnbvFrqKA"
      },
      "source": [
        "best_model.score(x_test, y_test)"
      ],
      "execution_count": null,
      "outputs": []
    },
    {
      "cell_type": "code",
      "metadata": {
        "id": "Nm_JtSCdruhS"
      },
      "source": [
        ""
      ],
      "execution_count": null,
      "outputs": []
    }
  ]
}