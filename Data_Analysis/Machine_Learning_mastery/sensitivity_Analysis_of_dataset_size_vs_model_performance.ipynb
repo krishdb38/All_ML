{
 "cells": [
  {
   "cell_type": "markdown",
   "metadata": {},
   "source": [
    "## Tutorial Overview"
   ]
  },
  {
   "cell_type": "code",
   "execution_count": 1,
   "metadata": {},
   "outputs": [],
   "source": [
    "# 1. Data set size Sensitivity Analysis\n",
    "# 2. Synthetic Prediction Task and Baseline Model\n",
    "# 3. Sensitivity Analysis of Dataset Size"
   ]
  },
  {
   "cell_type": "code",
   "execution_count": 2,
   "metadata": {},
   "outputs": [],
   "source": [
    "# How Much Training Data is Required for Machine Learning ?\n",
    "\n",
    "# There is a strong relationship between training dataset size and model performance.\n",
    "# especially for nonlinear models. The relationship often involves an improvement \n",
    "# in performance to a point and a general reduction in the expected variance of the model \n",
    "#  as the datasize is increased\n",
    "\n",
    "# Knowing this relationship for your Model and dataset can be helpful for a number of reasons,\n",
    "# Such as\n",
    "# Evaluate More Models.\n",
    "# Find a better model\n",
    "# Decide to gather more"
   ]
  },
  {
   "cell_type": "code",
   "execution_count": 3,
   "metadata": {},
   "outputs": [
    {
     "name": "stdout",
     "output_type": "stream",
     "text": [
      "(1000, 20) (1000,)\n"
     ]
    }
   ],
   "source": [
    "# The make_classification() scikit-learn function can be used to create a synthetic classification dataset\n",
    "# In this case we will use 20 input features (columns) and generate 1000 sample(rows)\n",
    "\n",
    "\n",
    "# test classification dataset\n",
    "from sklearn.datasets import make_classification\n",
    "\n",
    "# define datasets\n",
    "x,y = make_classification(n_samples=1000, n_features=20, n_informative=15, n_redundant=5,\n",
    "                         random_state=1)\n",
    "## Sumarize the dataset\n",
    "print(x.shape, y.shape)"
   ]
  },
  {
   "cell_type": "code",
   "execution_count": 7,
   "metadata": {},
   "outputs": [
    {
     "name": "stdout",
     "output_type": "stream",
     "text": [
      "Mean Accuracy : 0.823 (0.042)\n"
     ]
    }
   ],
   "source": [
    "# Evaluate a decision tree model on the synthetic classification dataset\n",
    "from sklearn.datasets import make_classification\n",
    "from sklearn.model_selection import cross_val_score\n",
    "from sklearn.model_selection import RepeatedStratifiedKFold\n",
    "from sklearn.tree import DecisionTreeClassifier\n",
    "\n",
    "# load dataset\n",
    "x,y = make_classification(n_samples=1000, n_features=20, n_informative=15, n_redundant=5,\n",
    "                         random_state=1)\n",
    "\n",
    "# define model evaluation producure \n",
    "cv = RepeatedStratifiedKFold(n_splits=10, n_repeats=3, random_state=1)\n",
    "\n",
    "# define the model\n",
    "model = DecisionTreeClassifier()\n",
    "# evaluate model\n",
    "scores = cross_val_score(model, x, y, scoring='accuracy', cv=cv, n_jobs=-1)\n",
    "\n",
    "# repear performance \n",
    "print(\"Mean Accuracy : %.3f (%.3f)\"%(scores.mean(), scores.std()))"
   ]
  },
  {
   "cell_type": "code",
   "execution_count": 8,
   "metadata": {},
   "outputs": [],
   "source": [
    "# Running the example creates the dataset then estimates \n",
    "# the performance of the model on the problemusing the chosen test harness."
   ]
  },
  {
   "cell_type": "markdown",
   "metadata": {},
   "source": [
    "## Sensitivity Analysis of Dataset Size\n",
    "**IT raises questions, such as.....**<br>\n",
    "\n",
    "will the model perform better on more data ? <br>\n",
    "Does the estimated performance hold on smaller or larger samples from the problem domain ? <br>\n",
    "How sensitive is model performance to dataset size ? <br>\n",
    "What is the relation ship of dataset size to model performance ? <br>"
   ]
  },
  {
   "cell_type": "code",
   "execution_count": 9,
   "metadata": {},
   "outputs": [],
   "source": [
    "# load dataset\n",
    "def load_dataset(n_samples):\n",
    "    # define the dataset\n",
    "    x, y = make_classification(n_samples = int(n_samples), n_features=20, n_informative=15,\n",
    "                              n_redundant=5, random_state=1)\n",
    "    return x, y"
   ]
  },
  {
   "cell_type": "code",
   "execution_count": 10,
   "metadata": {},
   "outputs": [],
   "source": [
    "# We will define a function to evaluate a model on a loaded dataset.\n",
    "# We define a function that takes a dataset and returns a summary of the performance\n",
    "# This function is listed below, taking the input and output elements of a dataset and \n",
    "# returning the mean and standard deviation of the decision of the tree model on the dataset\n",
    "\n",
    "# evaluate a model\n",
    "def evaluate_model(x,y):\n",
    "    # define model evaluation procedure\n",
    "    cv = RepeatedStratifiedKFold(n_splits=10, n_repeats=3, random_state=1)\n",
    "    # define model\n",
    "    model = DecisionTreeClassifier()\n",
    "    \n",
    "    # evaluate Model\n",
    "    scores = cross_val_score(model, x,y, scoring=\"accuracy\", cv = cv, n_jobs = -1)\n",
    "    # Return summaruy stats\n",
    "    return[scores.mean(), scores.std()]"
   ]
  },
  {
   "cell_type": "code",
   "execution_count": null,
   "metadata": {},
   "outputs": [],
   "source": [
    "# We can define a range of different range of different dataset sizes to evaluate.\n",
    "# "
   ]
  }
 ],
 "metadata": {
  "kernelspec": {
   "display_name": "Python 3",
   "language": "python",
   "name": "python3"
  },
  "language_info": {
   "codemirror_mode": {
    "name": "ipython",
    "version": 3
   },
   "file_extension": ".py",
   "mimetype": "text/x-python",
   "name": "python",
   "nbconvert_exporter": "python",
   "pygments_lexer": "ipython3",
   "version": "3.8.5"
  },
  "varInspector": {
   "cols": {
    "lenName": 16,
    "lenType": 16,
    "lenVar": 40
   },
   "kernels_config": {
    "python": {
     "delete_cmd_postfix": "",
     "delete_cmd_prefix": "del ",
     "library": "var_list.py",
     "varRefreshCmd": "print(var_dic_list())"
    },
    "r": {
     "delete_cmd_postfix": ") ",
     "delete_cmd_prefix": "rm(",
     "library": "var_list.r",
     "varRefreshCmd": "cat(var_dic_list()) "
    }
   },
   "types_to_exclude": [
    "module",
    "function",
    "builtin_function_or_method",
    "instance",
    "_Feature"
   ],
   "window_display": false
  }
 },
 "nbformat": 4,
 "nbformat_minor": 4
}
