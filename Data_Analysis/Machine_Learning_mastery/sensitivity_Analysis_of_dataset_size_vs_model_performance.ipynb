{
 "cells": [
  {
   "cell_type": "markdown",
   "metadata": {},
   "source": [
    "## Tutorial Overview"
   ]
  },
  {
   "cell_type": "code",
   "execution_count": 1,
   "metadata": {},
   "outputs": [],
   "source": [
    "# 1. Data set size Sensitivity Analysis\n",
    "# 2. Synthetic Prediction Task and Baseline Model\n",
    "# 3. Sensitivity Analysis of Dataset Size"
   ]
  },
  {
   "cell_type": "code",
   "execution_count": 2,
   "metadata": {},
   "outputs": [],
   "source": [
    "# How Much Training Data is Required for Machine Learning ?\n",
    "\n",
    "# There is a strong relationship between training dataset size and model performance.\n",
    "# especially for nonlinear models. The relationship often involves an improvement \n",
    "# in performance to a point and a general reduction in the expected variance of the model \n",
    "#  as the datasize is increased\n",
    "\n",
    "# Knowing this relationship for your Model and dataset can be helpful for a number of reasons,\n",
    "# Such as\n",
    "# Evaluate More Models.\n",
    "# Find a better model\n",
    "# Decide to gather more"
   ]
  },
  {
   "cell_type": "code",
   "execution_count": 3,
   "metadata": {},
   "outputs": [
    {
     "name": "stdout",
     "output_type": "stream",
     "text": [
      "(1000, 20) (1000,)\n"
     ]
    }
   ],
   "source": [
    "# The make_classification() scikit-learn function can be used to create a synthetic classification dataset\n",
    "# In this case we will use 20 input features (columns) and generate 1000 sample(rows)\n",
    "\n",
    "\n",
    "# test classification dataset\n",
    "from sklearn.datasets import make_classification\n",
    "\n",
    "# define datasets\n",
    "x,y = make_classification(n_samples=1000, n_features=20, n_informative=15, n_redundant=5,\n",
    "                         random_state=1)\n",
    "## Sumarize the dataset\n",
    "print(x.shape, y.shape)"
   ]
  },
  {
   "cell_type": "code",
   "execution_count": 1,
   "metadata": {},
   "outputs": [
    {
     "name": "stdout",
     "output_type": "stream",
     "text": [
      "Mean Accuracy : 0.820 (0.041)\n"
     ]
    }
   ],
   "source": [
    "# Evaluate a decision tree model on the synthetic classification dataset\n",
    "from sklearn.datasets import make_classification\n",
    "from sklearn.model_selection import cross_val_score\n",
    "from sklearn.model_selection import RepeatedStratifiedKFold\n",
    "from sklearn.tree import DecisionTreeClassifier\n",
    "\n",
    "# load dataset\n",
    "x,y = make_classification(n_samples=1000, n_features=20, n_informative=15, n_redundant=5,\n",
    "                         random_state=1)\n",
    "\n",
    "# define model evaluation producure \n",
    "cv = RepeatedStratifiedKFold(n_splits=10, n_repeats=3, random_state=1)\n",
    "\n",
    "# define the model\n",
    "model = DecisionTreeClassifier()\n",
    "# evaluate model\n",
    "scores = cross_val_score(model, x, y, scoring='accuracy', cv=cv, n_jobs=-1)\n",
    "\n",
    "# repear performance \n",
    "print(\"Mean Accuracy : %.3f (%.3f)\"%(scores.mean(), scores.std()))"
   ]
  },
  {
   "cell_type": "code",
   "execution_count": 2,
   "metadata": {},
   "outputs": [],
   "source": [
    "# Running the example creates the dataset then estimates \n",
    "# the performance of the model on the problemusing the chosen test harness."
   ]
  },
  {
   "cell_type": "markdown",
   "metadata": {},
   "source": [
    "## Sensitivity Analysis of Dataset Size\n",
    "**IT raises questions, such as.....**<br>\n",
    "\n",
    "will the model perform better on more data ? <br>\n",
    "Does the estimated performance hold on smaller or larger samples from the problem domain ? <br>\n",
    "How sensitive is model performance to dataset size ? <br>\n",
    "What is the relation ship of dataset size to model performance ? <br>"
   ]
  },
  {
   "cell_type": "code",
   "execution_count": 3,
   "metadata": {},
   "outputs": [],
   "source": [
    "# load dataset\n",
    "def load_dataset(n_samples):\n",
    "    # define the dataset\n",
    "    x, y = make_classification(n_samples = int(n_samples), n_features=20, n_informative=15,\n",
    "                              n_redundant=5, random_state=1)\n",
    "    return x, y"
   ]
  },
  {
   "cell_type": "code",
   "execution_count": 4,
   "metadata": {},
   "outputs": [],
   "source": [
    "# We will define a function to evaluate a model on a loaded dataset.\n",
    "# We define a function that takes a dataset and returns a summary of the performance\n",
    "# This function is listed below, taking the input and output elements of a dataset and \n",
    "# returning the mean and standard deviation of the decision of the tree model on the dataset\n",
    "\n",
    "# evaluate a model\n",
    "def evaluate_model(x,y):\n",
    "    # define model evaluation procedure\n",
    "    cv = RepeatedStratifiedKFold(n_splits=10, n_repeats=3, random_state=1)\n",
    "    # define model\n",
    "    model = DecisionTreeClassifier()\n",
    "    \n",
    "    # evaluate Model\n",
    "    scores = cross_val_score(model, x,y, scoring=\"accuracy\", cv = cv, n_jobs = -1)\n",
    "    # Return summaruy stats\n",
    "    return[scores.mean(), scores.std()]"
   ]
  },
  {
   "cell_type": "code",
   "execution_count": 6,
   "metadata": {},
   "outputs": [],
   "source": [
    "# We can define a range of different range of different dataset sizes to evaluate.\n",
    "# \n",
    "sizes = [50, 100, 500, 1000, 5000, 10000, 50000, 100000, 500000, 1000000]"
   ]
  },
  {
   "cell_type": "code",
   "execution_count": 10,
   "metadata": {},
   "outputs": [],
   "source": [
    "# Evaluate each Number of Samples\n",
    "means, stds = list(), list()\n",
    "for n_samples in sizes:\n",
    "    # get a data set\n",
    "    x,y = load_dataset(n_samples)\n",
    "    # Evaluate Model on this dataset size\n",
    "    mean, std = evaluate_model(x,y)\n",
    "    # Store \n",
    "    means.append(mean)\n",
    "    stds.append(std)"
   ]
  },
  {
   "cell_type": "code",
   "execution_count": 11,
   "metadata": {},
   "outputs": [
    {
     "data": {
      "text/plain": [
       "[0.6666666666666667,\n",
       " 0.7133333333333334,\n",
       " 0.804,\n",
       " 0.8173333333333332,\n",
       " 0.8355333333333335,\n",
       " 0.8665999999999999,\n",
       " 0.8997866666666668,\n",
       " 0.9115633333333335,\n",
       " 0.9382013333333332,\n",
       " 0.935565]"
      ]
     },
     "execution_count": 11,
     "metadata": {},
     "output_type": "execute_result"
    }
   ],
   "source": [
    "means[:10]"
   ]
  },
  {
   "cell_type": "code",
   "execution_count": 12,
   "metadata": {},
   "outputs": [
    {
     "data": {
      "text/plain": [
       "[0.16599866130651644,\n",
       " 0.11469767022723504,\n",
       " 0.055952360688952756,\n",
       " 0.046183210032314646,\n",
       " 0.01570293673878304,\n",
       " 0.009064950818031693,\n",
       " 0.004786350964519371,\n",
       " 0.0027309929004342287,\n",
       " 0.0008760355142471204,\n",
       " 0.0008565774921161528]"
      ]
     },
     "execution_count": 12,
     "metadata": {},
     "output_type": "execute_result"
    }
   ],
   "source": [
    "stds[:10]"
   ]
  },
  {
   "cell_type": "code",
   "execution_count": 13,
   "metadata": {},
   "outputs": [],
   "source": [
    "# Next we can summarize the relationship betweeen the dataset size and model performance.\n",
    "\n",
    "# We will use the Standard deviation as a measure of uncertainty on the estimated model performance.\n",
    "# This can be achieved by multiplying the value by 2 to cover approximately 95% of the expected performance if the\n",
    "# performance follows a normal distribution"
   ]
  },
  {
   "cell_type": "code",
   "execution_count": 15,
   "metadata": {},
   "outputs": [],
   "source": [
    "from matplotlib import pyplot"
   ]
  },
  {
   "cell_type": "code",
   "execution_count": 16,
   "metadata": {},
   "outputs": [
    {
     "data": {
      "text/plain": [
       "<ErrorbarContainer object of 3 artists>"
      ]
     },
     "execution_count": 16,
     "metadata": {},
     "output_type": "execute_result"
    },
    {
     "data": {
      "image/png": "[encoded data removed]",
      "text/plain": [
       "<Figure size 432x288 with 1 Axes>"
      ]
     },
     "metadata": {
      "needs_background": "light"
     },
     "output_type": "display_data"
    }
   ],
   "source": [
    "# This can be shown on the plot as an error bar around the mean expected performance for dataset size\n",
    "\n",
    "# define error bar as 2 standard deviations from the mean or 95%\n",
    "err = [min(1, s*2) for s in stds]\n",
    "\n",
    "# Plot dataset size Vs mean performance with error bars\n",
    "pyplot.errorbar(sizes, means, yerr = err, fmt = '-o')"
   ]
  },
  {
   "cell_type": "code",
   "execution_count": 17,
   "metadata": {},
   "outputs": [
    {
     "data": {
      "image/png": "[encoded data removed]",
      "text/plain": [
       "<Figure size 432x288 with 1 Axes>"
      ]
     },
     "metadata": {
      "needs_background": "light"
     },
     "output_type": "display_data"
    }
   ],
   "source": [
    "# To make the above plot more readable ,\n",
    "# We can change the scale of the x-axis to log, \n",
    "# given that our dataset sizes are on a rough log 10 scale\n",
    "\n",
    "# Change the scale of the x-axis to log\n",
    "ax = pyplot.gca()\n",
    "ax.set_xscale(\"log\", nonpositive = \"clip\")\n",
    "pyplot.show()"
   ]
  },
  {
   "cell_type": "markdown",
   "metadata": {},
   "source": [
    "## Trying all above process in a single code"
   ]
  },
  {
   "cell_type": "code",
   "execution_count": 18,
   "metadata": {},
   "outputs": [],
   "source": [
    "# Sensitivity analysis of model performance to dataset size\n",
    "from sklearn.datasets import make_classification\n",
    "from sklearn.model_selection import cross_val_score\n",
    "from sklearn.model_selection import RepeatedStratifiedKFold\n",
    "from sklearn.tree import DecisionTreeClassifier\n",
    "import matplotlib.pyplot as plt"
   ]
  },
  {
   "cell_type": "code",
   "execution_count": null,
   "metadata": {},
   "outputs": [],
   "source": [
    "# load Datasets\n",
    "def load_dataset(n_samples):\n",
    "    # Define the model evaluation procedure\n",
    "    cv = make_classification(n_samples=int(n_samples), n_features = 20, n_informative = 15,\\\n",
    "                                n_redundant = 5,random_state = 1)\n",
    "    return x,y\n",
    "\n",
    "# Evaluate a Model\n",
    "def evaluate_model(x,y):\n",
    "    # Define model evaluation procedure\n",
    "    cv = RepeatedStratifiedKFold(n_splits=10, n_repeats=3, random_state=1)\n",
    "    # Define Model\n",
    "    model = DecisionTreeClassifier()\n",
    "    # Evaluate Model\n",
    "    scores = cross_val_score(model, x, y, scoring = \"accuracy\", cv = cv, n_jobs=-1)\n",
    "    # Return summary stats\n",
    "    return [scores.mean(), scores.std()]\n",
    "\n",
    "# Define number of samples to consider\n",
    "sizes = [50, 100, 500, 1000, 50000, 100000, 500000, 1000000]\n",
    "\n",
    "# Evaluate each number fo samples\n",
    "means, stds = list(), list() # Blank lists\n",
    "\n",
    "for n_samples in sizes:\n",
    "    # get a dataset\n",
    "    x,y = load_dataset(n_samples)\n",
    "    # Evaluate a model on this dataset size\n",
    "    mean, std = evaluate_model(x,y)\n",
    "    # Store mean, std \n",
    "    means.append(mean)\n",
    "    stds.append(std)\n",
    "    \n",
    "    # Summarize performance \n",
    "    print(\"> %d : %.3f (%.3f)\"%(n_samples, mean, std))\n",
    "# define error bar as 2 standard deviations from the mean or 95 %\n",
    "err = [min(1, s*2) for s in stds]\n",
    "# plot dataset size Vs mean performance with error bars\n",
    "pyplot.errorbar(sizes, means, yerr=yerr, fmt = '-o')\n",
    "# Change the scale of the x-axis to log\n",
    "ax = plt.gca()\n",
    "ax.set_xscale(\"log\", nonpositive = \"clip\")\n",
    "# show the plot\n",
    "plt.show()"
   ]
  },
  {
   "cell_type": "markdown",
   "metadata": {},
   "source": [
    "### Final Conclusion"
   ]
  },
  {
   "cell_type": "code",
   "execution_count": null,
   "metadata": {},
   "outputs": [],
   "source": [
    "# - Our Result may vary given the stochastic nature of the algorithm\n",
    "#    or evaluation procedure, or differences in numerical precision\n",
    "\n",
    "# In This case, we can see the expected trend of increasing mean model performance with dataset\n",
    "# size and decreasing model variance measured using the standard deviation of classification."
   ]
  },
  {
   "cell_type": "code",
   "execution_count": null,
   "metadata": {},
   "outputs": [],
   "source": [
    "# Use Ful Further Reading\n",
    "\n",
    "# How Much training data is required ?\n",
    "# https://machinelearningmastery.com/much-training-data-required-machine-learning/\n",
    "\n"
   ]
  }
 ],
 "metadata": {
  "kernelspec": {
   "display_name": "Python 3",
   "language": "python",
   "name": "python3"
  },
  "language_info": {
   "codemirror_mode": {
    "name": "ipython",
    "version": 3
   },
   "file_extension": ".py",
   "mimetype": "text/x-python",
   "name": "python",
   "nbconvert_exporter": "python",
   "pygments_lexer": "ipython3",
   "version": "3.8.5"
  },
  "varInspector": {
   "cols": {
    "lenName": 16,
    "lenType": 16,
    "lenVar": 40
   },
   "kernels_config": {
    "python": {
     "delete_cmd_postfix": "",
     "delete_cmd_prefix": "del ",
     "library": "var_list.py",
     "varRefreshCmd": "print(var_dic_list())"
    },
    "r": {
     "delete_cmd_postfix": ") ",
     "delete_cmd_prefix": "rm(",
     "library": "var_list.r",
     "varRefreshCmd": "cat(var_dic_list()) "
    }
   },
   "types_to_exclude": [
    "module",
    "function",
    "builtin_function_or_method",
    "instance",
    "_Feature"
   ],
   "window_display": false
  }
 },
 "nbformat": 4,
 "nbformat_minor": 4
}
