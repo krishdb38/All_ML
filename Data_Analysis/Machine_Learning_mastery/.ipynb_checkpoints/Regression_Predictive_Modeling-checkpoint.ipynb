{
 "cells": [
  {
   "cell_type": "code",
   "execution_count": null,
   "metadata": {},
   "outputs": [],
   "source": [
    "#https://machinelearningmastery.com/regression-metrics-for-machine-learning/"
   ]
  },
  {
   "cell_type": "code",
   "execution_count": 1,
   "metadata": {},
   "outputs": [],
   "source": [
    "# Predictive Modeling is the problem of developing a model using historical data to make a prediction \n",
    "# on a new data where we do not have the answer"
   ]
  },
  {
   "cell_type": "markdown",
   "metadata": {},
   "source": [
    "## We Can not calculate accuracy for a regression Model"
   ]
  },
  {
   "cell_type": "code",
   "execution_count": 2,
   "metadata": {},
   "outputs": [],
   "source": [
    "# The skill or performance of a regression model must be reported as an error in those predictions.\n",
    "# This makes sense if you think about it .\n",
    "# If you are predicting a numeric value like a height or a dollar amount,\n",
    "\n",
    "# There are three Error metrics that are commonly used for evaluating and reporting the performance of a regression model.\n",
    "\n",
    "# They are\n",
    "       # Mean Squared Error(MSE)\n",
    "       # Root Mean Squared Error(RMSE)\n",
    "       # Mean Absolute Error (MAE)\n",
    "    \n",
    "# There are many other metrics for regression , although these are the most commonly used.\n",
    "# you can see the ful list of regression metrics supported by the scikit-learn Python Machine learning"
   ]
  },
  {
   "cell_type": "markdown",
   "metadata": {},
   "source": [
    "## Metrics for Regression"
   ]
  },
  {
   "cell_type": "code",
   "execution_count": 3,
   "metadata": {},
   "outputs": [],
   "source": [
    "# Mean Squared Error or MSE"
   ]
  },
  {
   "cell_type": "code",
   "execution_count": 8,
   "metadata": {},
   "outputs": [
    {
     "name": "stdout",
     "output_type": "stream",
     "text": [
      ">1.0, 1.0 = 0.000\n",
      ">1.0, 0.9 = 0.010\n",
      ">1.0, 0.8 = 0.040\n",
      ">1.0, 0.7 = 0.090\n",
      ">1.0, 0.6 = 0.160\n",
      ">1.0, 0.5 = 0.250\n",
      ">1.0, 0.4 = 0.360\n",
      ">1.0, 0.3 = 0.490\n",
      ">1.0, 0.2 = 0.640\n",
      ">1.0, 0.1 = 0.810\n",
      ">1.0, 0.0 = 1.000\n"
     ]
    },
    {
     "data": {
      "image/png": "[encoded data removed]",
      "text/plain": [
       "<Figure size 432x288 with 1 Axes>"
      ]
     },
     "metadata": {
      "needs_background": "light"
     },
     "output_type": "display_data"
    }
   ],
   "source": [
    "# Example of increase in Mean Squared Error\n",
    "import matplotlib.pyplot as plt\n",
    "from sklearn.metrics import mean_squared_error\n",
    "\n",
    "# Real Value\n",
    "expected = [1.0, 1.0, 1.0, 1.0, 1.0, 1.0,1.0, 1.0, 1.0, 1.0, 1.0]\n",
    "# Predicted \n",
    "predicted = [1.0, 0.9, 0.8, 0.7, 0.6, 0.5, 0.4, 0.3, 0.2, 0.1, 0.0]\n",
    "\n",
    "# Calculate Errors\n",
    "errors = list() # [] Blank list\n",
    "for i in range(len(expected)):\n",
    "    # Calculated Error\n",
    "    err = (expected[i] - predicted[i]) **2 # Convert all to positive\n",
    "    # Store all values\n",
    "    errors.append(err)\n",
    "    # Report Error\n",
    "    print(\">%.1f, %.1f = %.3f\" %(expected[i], predicted[i], err))\n",
    "# Plot the errors\n",
    "plt.plot(errors)\n",
    "plt.xticks(ticks = [i for i in range(len(errors))], labels = predicted)\n",
    "plt.xlabel(\"Predicted Value\")\n",
    "plt.ylabel(\"Mean Squared Error\")\n",
    "plt.show()"
   ]
  },
  {
   "cell_type": "code",
   "execution_count": 5,
   "metadata": {},
   "outputs": [
    {
     "data": {
      "text/plain": [
       "[]"
      ]
     },
     "execution_count": 5,
     "metadata": {},
     "output_type": "execute_result"
    }
   ],
   "source": [
    "errors"
   ]
  },
  {
   "cell_type": "code",
   "execution_count": null,
   "metadata": {},
   "outputs": [],
   "source": []
  }
 ],
 "metadata": {
  "kernelspec": {
   "display_name": "Python 3",
   "language": "python",
   "name": "python3"
  },
  "language_info": {
   "codemirror_mode": {
    "name": "ipython",
    "version": 3
   },
   "file_extension": ".py",
   "mimetype": "text/x-python",
   "name": "python",
   "nbconvert_exporter": "python",
   "pygments_lexer": "ipython3",
   "version": "3.8.5"
  },
  "varInspector": {
   "cols": {
    "lenName": 16,
    "lenType": 16,
    "lenVar": 40
   },
   "kernels_config": {
    "python": {
     "delete_cmd_postfix": "",
     "delete_cmd_prefix": "del ",
     "library": "var_list.py",
     "varRefreshCmd": "print(var_dic_list())"
    },
    "r": {
     "delete_cmd_postfix": ") ",
     "delete_cmd_prefix": "rm(",
     "library": "var_list.r",
     "varRefreshCmd": "cat(var_dic_list()) "
    }
   },
   "types_to_exclude": [
    "module",
    "function",
    "builtin_function_or_method",
    "instance",
    "_Feature"
   ],
   "window_display": false
  }
 },
 "nbformat": 4,
 "nbformat_minor": 4
}
